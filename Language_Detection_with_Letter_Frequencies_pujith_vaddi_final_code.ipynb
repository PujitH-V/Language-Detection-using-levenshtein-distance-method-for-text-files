{
 "cells": [
  {
   "cell_type": "markdown",
   "id": "9bf3afaa",
   "metadata": {},
   "source": [
    "Sources: The code implementation done in this notebook is referenced from a blog from the below web address.\n",
    "https://medium.com/oracledevs/determine-the-language-of-a-document-from-the-letter-frequency-using-levenshtein-distance-c230db714fce\n",
    "        \n",
    "The implementation is followed from \n",
    "\n",
    "https://github.com/lucasjellema/language-determination-analytics/blob/master/Letter%20Frequency%20Analysis%20-%20Determine%20Language%20of%20Document%20based%20on%20Letter%20Frequency.ipynb\n",
    "    \n",
    "The implementation in the above link is based on the pandas and the implementation of levenshtein distance function.\n",
    "Where as in my implementation I have used Pandas,PySpark,SparkSQL and levenshtein package to calculate the levenshtein distance for the given string.\n",
    "The code has been modified to a file to pass the name of file as input to the detect_language function which contains \n",
    "the code to determine the language of text for a giventext in the file.\n"
   ]
  },
  {
   "cell_type": "code",
   "execution_count": 1,
   "id": "f22cab25",
   "metadata": {},
   "outputs": [],
   "source": [
    "import findspark\n",
    "findspark.init()\n",
    "from pyspark.sql import *\n",
    "import pandas as pd\n",
    "import Levenshtein as lvn"
   ]
  },
  {
   "cell_type": "code",
   "execution_count": 2,
   "id": "3073d684",
   "metadata": {},
   "outputs": [],
   "source": [
    "spark = SparkSession.builder.appName('language_Detection').getOrCreate()\n",
    "df_letter_sequences = spark.read.csv('ordered-letter-sequences.csv',header='true')\n",
    "pd_df = df_letter_sequences.toPandas()"
   ]
  },
  {
   "cell_type": "code",
   "execution_count": 5,
   "id": "4ba71bb3",
   "metadata": {},
   "outputs": [],
   "source": [
    "def detect_language(textfile):\n",
    "    with open(textfile,encoding='utf8') as readData:\n",
    "        data = readData.readlines()\n",
    "    \n",
    "    df_all_letters = spark.read.csv('letter-frequencies.csv',header='true')\n",
    "    pd_df_all_letters = df_all_letters.toPandas()\n",
    "    all_letters = ''.join(pd_df_all_letters['Letter'])\n",
    "    print(all_letters)\n",
    "    \n",
    "    alphabet_dictionary = {}\n",
    "    for alphabet in all_letters:\n",
    "        alphabet_dictionary[alphabet] = 0\n",
    "    count = 0\n",
    "    for p in data:\n",
    "        for k in p:\n",
    "            k = k.lower()\n",
    "            if k in all_letters:\n",
    "                count = count+1\n",
    "                if k in alphabet_dictionary: alphabet_dictionary[k] += 1\n",
    "                else: alphabet_dictionary[k] = 0\n",
    "\n",
    "    for j in alphabet_dictionary:\n",
    "        alphabet_dictionary[j] = alphabet_dictionary[j]/count\n",
    "    \n",
    "    lang_text_df = pd.DataFrame.from_dict(alphabet_dictionary,orient='index',columns=['frequency'])\n",
    "    lang_text_df['alphabet'] = lang_text_df.index\n",
    "    sort_letter_df = spark.createDataFrame(lang_text_df).createOrReplaceTempView('tmp')\n",
    "    result_df = spark.sql(\"select alphabet,frequency from tmp order by frequency desc\")\n",
    "    result_pd_df = result_df.toPandas()\n",
    "    final_text_seq = ''.join(result_pd_df['alphabet'])\n",
    "    best_score = 999\n",
    "    for i,j in pd_df.iterrows():\n",
    "        #print(i,j)\n",
    "        ld = lvn.distance(j['ordered_letters'],final_text_seq)\n",
    "        #print(j['language'],': ',ld)\n",
    "        if ld == best_score:\n",
    "            best_matching_language = best_matching_language + ', '+j['language']\n",
    "        if ld < best_score:\n",
    "            best_score= ld\n",
    "            best_matching_language = j['language']\n",
    "    print(\"We have a winner: \",best_matching_language)"
   ]
  },
  {
   "cell_type": "code",
   "execution_count": 7,
   "id": "c9711958",
   "metadata": {},
   "outputs": [
    {
     "name": "stdout",
     "output_type": "stream",
     "text": [
      " Choose one of the below options to send as input file:\n",
      " 1. Spanish \n",
      " 2. Swedish \n",
      " 3. English \n",
      "Enter one of the number: 1\n",
      "abcdefghijklmnopqrstuvwxyzßàáâãäåæçèéêëìíîïðñòóôöøùúüýþąćĉčďęěĝğĥıĵłńňœřśŝşšťŭůźżž\n",
      "We have a winner:  spanish\n"
     ]
    }
   ],
   "source": [
    "language_files = {1:'spanish_sam.txt',2:'Swedish_Sample.txt',3:'English_Sample.txt'}\n",
    "\n",
    "print(\" Choose one of the below options to send as input file:\\n 1. Spanish \\n 2. Swedish \\n 3. English \")\n",
    "detect_language(language_files[int(input(\"Enter one of the number: \"))])"
   ]
  },
  {
   "cell_type": "code",
   "execution_count": null,
   "id": "4cd727ce",
   "metadata": {},
   "outputs": [],
   "source": []
  }
 ],
 "metadata": {
  "kernelspec": {
   "display_name": "Python 3",
   "language": "python",
   "name": "python3"
  },
  "language_info": {
   "codemirror_mode": {
    "name": "ipython",
    "version": 3
   },
   "file_extension": ".py",
   "mimetype": "text/x-python",
   "name": "python",
   "nbconvert_exporter": "python",
   "pygments_lexer": "ipython3",
   "version": "3.8.8"
  }
 },
 "nbformat": 4,
 "nbformat_minor": 5
}
